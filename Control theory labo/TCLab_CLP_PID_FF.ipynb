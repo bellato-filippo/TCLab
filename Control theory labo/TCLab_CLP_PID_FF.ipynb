{
 "cells": [
  {
   "cell_type": "markdown",
   "id": "101e84c8-4446-42fd-af50-b0b43730c4ab",
   "metadata": {},
   "source": [
    "# Imports"
   ]
  },
  {
   "cell_type": "code",
   "execution_count": 8,
   "id": "70da5084-aedf-47e8-abb6-8431e7655d0d",
   "metadata": {},
   "outputs": [],
   "source": [
    "import numpy as np\n",
    "import matplotlib.pyplot as plt\n",
    "from scipy.optimize import minimize\n",
    "from matplotlib import colors as mcolors\n",
    "from IPython.display import display, clear_output\n",
    "\n",
    "from datetime import datetime\n",
    "import tclab\n",
    "import time\n",
    "\n",
    "import os\n",
    "\n",
    "import package_LAB\n",
    "from importlib import reload\n",
    "package_LAB = reload(package_LAB)\n",
    "from package_LAB import SelectPath_RT, Delay_RT, LEAD_LAG_RT, PID_RT, myRound, IMC_TUNING\n",
    "from package_DBR import FOPDT, SOPDT, FO_RT"
   ]
  },
  {
   "cell_type": "markdown",
   "id": "cb0e49e2-77b5-45a5-afa2-b9d9602037e6",
   "metadata": {},
   "source": [
    "# TClab function"
   ]
  },
  {
   "cell_type": "code",
   "execution_count": 9,
   "id": "486a0c62-f849-4f84-b98b-65a21df89e34",
   "metadata": {},
   "outputs": [],
   "source": [
    "def run(SP, MV, DV, PV, Ts, FF, Man, MVI, MVP, MVD):\n",
    "    # global i, t, MV, PV, DV, SP\n",
    "\n",
    "    \n",
    "    #sets MV and DV\n",
    "    lab.Q1(MV[-1])\n",
    "    lab.Q2(DV[-1])\n",
    "    \n",
    "    #appends the value of PV\n",
    "    PV.append(lab.T1)\n",
    "    \n",
    "    #sleeps to let the TClab heat\n",
    "    time.sleep(Ts)\n",
    "    \n",
    "    #prepares the data to draw these values\n",
    "    l1.set_data(t, MV)\n",
    "    l2.set_data(t, PV)\n",
    "    l3.set_data(t, DV)\n",
    "    l4.set_data(t, SP)\n",
    "    \n",
    "    clear_output(wait=True)\n",
    "    \n",
    "    # Remove if increasing x-axis length is not desired\n",
    "    ax1.set_xlim(0, t[-1]+1)\n",
    "    ax2.set_xlim(0, t[-1]+1)\n",
    "    ax3.set_xlim(0, t[-1]+1)\n",
    "    \n",
    "    #auto adjusts y axis\n",
    "    if i > 1:\n",
    "        ax1.set_ylim(myRound(np.min(MV), 5) - 5, myRound(np.max(MV), 5) + 5)\n",
    "        ax2.set_ylim(myRound(min(np.min(PV), np.min(SP)), 5) - 5, myRound(max(np.max(PV), np.max(SP)), 5) + 5)\n",
    "        ax3.set_ylim(myRound(np.min(DV), 5) - 5, myRound(np.max(DV), 5) + 5)        \n",
    "    \n",
    "    #prints the picture with the graphs\n",
    "    display(fig)\n",
    "    \n",
    "    #takes the current time and makes it a string\n",
    "    now = datetime.now()\n",
    "    date_time = now.strftime(\"%Y-%m-%d-%Hh%M\")\n",
    "    \n",
    "    #transforms these vectors into numpy arrays\n",
    "    t_a = np.array(t)\n",
    "    MV_a = np.array(MV)\n",
    "    PV_a = np.array(PV)\n",
    "    DV_a = np.array(DV)\n",
    "    SP_a = np.array(SP)\n",
    "    MVI_a = np.array(MVI)\n",
    "    MVP_a = np.array(MVP)\n",
    "    MVD_a = np.array(MVD)\n",
    "    Man_a = np.array(Man)\n",
    "    \n",
    "    #stacks arrays vertically and then transposes them\n",
    "    my_data = np.vstack((t_a.T, MV_a.T, MVP_a.T, MVI_a.T, MVD_a.T, SP_a.T, PV_a.T, DV_a.T, Man_a.T))\n",
    "    my_data = my_data.T\n",
    "    \n",
    "    #Create path to store data into\n",
    "    if (FF):\n",
    "        if(Man):\n",
    "            nameFile = 'Data/TCLab OLP + FF ' + date_time + '.txt'\n",
    "        else:\n",
    "            nameFile = 'Data/TCLab CLP + FF ' + date_time + '.txt'\n",
    "    else:\n",
    "        if(Man):\n",
    "            nameFile = 'Data/TCLab OLP + no FF ' + date_time + '.txt'\n",
    "        else:\n",
    "            nameFile = 'Data/TCLab CLP + no FF ' + date_time + '.txt'\n",
    "    \n",
    "    #creates directory if it doesn't exist\n",
    "    if not os.path.exists('Data'):\n",
    "        os.makedirs('Data')\n",
    "    #saves the file\n",
    "    np.savetxt(nameFile,my_data,delimiter=',',header='t,MV,MVP,MVI,MVD,SP,PV,DV,Man',comments='')"
   ]
  },
  {
   "cell_type": "markdown",
   "id": "bf95f5b3-d230-45de-8342-d2cd027b2c00",
   "metadata": {},
   "source": [
    "# Parameters"
   ]
  },
  {
   "cell_type": "code",
   "execution_count": 10,
   "id": "4b53e95a-bfe9-4af4-abc4-ab8e85efdb2a",
   "metadata": {},
   "outputs": [],
   "source": [
    "TSim = 1500\n",
    "Ts = 1\n",
    "N = int(TSim / Ts) + 1\n",
    "\n",
    "DV0 = 50\n",
    "MV0 = 50\n",
    "PV0 = 70\n",
    "\n",
    "\n",
    "# P(s) = MV -> PV\n",
    "Kp_p = 0.5438749526909622\n",
    "T1_p = 184.2423025000344\n",
    "T2_p = 6.478747375951926e-5\n",
    "theta_p = 2.9999487500471216\n",
    "\n",
    "# D(s) = DV -> PV\n",
    "Kp_d = 0.3939794530691328\n",
    "T1_d = 225.6571654918062\n",
    "T2_d = 8.129086232603086\n",
    "theta_d = 1.1226868296407733\n",
    "\n",
    "# PID parameters\n",
    "Kc = 0\n",
    "Ti = 0\n",
    "Td = 0\n",
    "gamma = 0.2\n",
    "alpha = 0.1\n",
    "Kc, Ti, Td = IMC_TUNING(Kc, Ti, Td, gamma, Kp_p, T1_p, T2_p, theta_p, method='FOPD-PID')\n",
    "\n",
    "#bounds on MV\n",
    "MVMin = 0\n",
    "MVMax = 100\n",
    "offset_WP = PV0 - Kp_p * MV0"
   ]
  },
  {
   "cell_type": "markdown",
   "id": "fd417fff-4fa0-4f20-b128-490639d1505d",
   "metadata": {},
   "source": [
    "# Simulation vectors"
   ]
  },
  {
   "cell_type": "code",
   "execution_count": 11,
   "id": "53bcfeb0-cb5e-4a0d-8ffb-0bf28d22542e",
   "metadata": {},
   "outputs": [],
   "source": [
    "t = []\n",
    "SP = []\n",
    "DV = []\n",
    "PV = []\n",
    "E = []\n",
    "MV = []\n",
    "MVP = []\n",
    "MVI = []\n",
    "MVD = []\n",
    "Man = []\n",
    "MVMan = []\n",
    "\n",
    "MVFFDel = []\n",
    "MVFFLL1 = []\n",
    "MVFF = []\n",
    "\n",
    "MVDel_p = []\n",
    "PV_p1 = []\n",
    "PV_p2 = []\n",
    "\n",
    "DVDel_d = []\n",
    "PV_d1 = []\n",
    "PV_d2 = []\n",
    "\n",
    "DV0_vec = []"
   ]
  },
  {
   "cell_type": "markdown",
   "id": "890d8045-769b-441f-ba9b-2b776c93aecf",
   "metadata": {},
   "source": [
    "# Paths"
   ]
  },
  {
   "cell_type": "code",
   "execution_count": 12,
   "id": "7458431f-905c-4dc2-a01d-abb36da37733",
   "metadata": {},
   "outputs": [],
   "source": [
    "ManPath = {0: False, 2000: False, TSim: False}\n",
    "MVManPath = {0: MV0, TSim: MV0}\n",
    "SPPath = {0: PV0, 750: PV0 + 10, TSim: PV0}\n",
    "DVPath = {0: DV0, 1000: DV0, TSim: DV0}\n",
    "\n",
    "FF = False\n",
    "ManFF = False"
   ]
  },
  {
   "cell_type": "markdown",
   "id": "2847ad8f-8aea-4cb4-bedd-8d3b860982aa",
   "metadata": {},
   "source": [
    "# Simulation"
   ]
  },
  {
   "cell_type": "code",
   "execution_count": 13,
   "id": "f5f0ba93-db7c-437d-8b81-c6616fdbd58b",
   "metadata": {
    "tags": []
   },
   "outputs": [
    {
     "name": "stdout",
     "output_type": "stream",
     "text": [
      "TCLab version 0.4.9\n",
      "--- Serial Ports ---\n",
      "COM6 Standard Serial over Bluetooth link (COM6) BTHENUM\\{00001101-0000-1000-8000-00805F9B34FB}_LOCALMFG&0000\\9&319A0FA&0&000000000000_0000001D\n",
      "COM3 Standard Serial over Bluetooth link (COM3) BTHENUM\\{00001101-0000-1000-8000-00805F9B34FB}_LOCALMFG&0000\\9&319A0FA&0&000000000000_0000001F\n",
      "COM14 Standard Serial over Bluetooth link (COM14) BTHENUM\\{00001101-0000-1000-8000-00805F9B34FB}_LOCALMFG&0000\\9&319A0FA&0&000000000000_00000020\n",
      "COM5 Standard Serial over Bluetooth link (COM5) BTHENUM\\{00001101-0000-1000-8000-00805F9B34FB}_VID&0001000A_PID&FFFF\\9&319A0FA&0&88C6267AF2FF_C00000000\n",
      "COM4 Standard Serial over Bluetooth link (COM4) BTHENUM\\{00001101-0000-1000-8000-00805F9B34FB}_VID&000102B0_PID&0000\\9&319A0FA&0&B04502CD3CB3_C00000000\n",
      "COM15 Standard Serial over Bluetooth link (COM15) BTHENUM\\{00001101-0000-1000-8000-00805F9B34FB}_VID&0001000A_PID&FFFF\\9&319A0FA&0&88C626EE4EC0_C00000000\n"
     ]
    },
    {
     "ename": "RuntimeError",
     "evalue": "No Arduino device found.",
     "output_type": "error",
     "traceback": [
      "\u001b[1;31m---------------------------------------------------------------------------\u001b[0m",
      "\u001b[1;31mRuntimeError\u001b[0m                              Traceback (most recent call last)",
      "\u001b[1;32m~\\AppData\\Local\\Temp/ipykernel_13668/593156472.py\u001b[0m in \u001b[0;36m<module>\u001b[1;34m\u001b[0m\n\u001b[0;32m     18\u001b[0m \u001b[0max3\u001b[0m\u001b[1;33m.\u001b[0m\u001b[0mlegend\u001b[0m\u001b[1;33m(\u001b[0m\u001b[0mloc\u001b[0m\u001b[1;33m=\u001b[0m\u001b[1;34m'best'\u001b[0m\u001b[1;33m)\u001b[0m\u001b[1;33m\u001b[0m\u001b[1;33m\u001b[0m\u001b[0m\n\u001b[0;32m     19\u001b[0m \u001b[1;33m\u001b[0m\u001b[0m\n\u001b[1;32m---> 20\u001b[1;33m \u001b[0mlab\u001b[0m \u001b[1;33m=\u001b[0m \u001b[0mtclab\u001b[0m\u001b[1;33m.\u001b[0m\u001b[0mTCLab\u001b[0m\u001b[1;33m(\u001b[0m\u001b[1;33m)\u001b[0m\u001b[1;33m\u001b[0m\u001b[1;33m\u001b[0m\u001b[0m\n\u001b[0m\u001b[0;32m     21\u001b[0m \u001b[1;33m\u001b[0m\u001b[0m\n\u001b[0;32m     22\u001b[0m \u001b[1;32mfor\u001b[0m \u001b[0mi\u001b[0m \u001b[1;32min\u001b[0m \u001b[0mrange\u001b[0m\u001b[1;33m(\u001b[0m\u001b[1;36m0\u001b[0m\u001b[1;33m,\u001b[0m \u001b[0mN\u001b[0m\u001b[1;33m)\u001b[0m\u001b[1;33m:\u001b[0m\u001b[1;33m\u001b[0m\u001b[1;33m\u001b[0m\u001b[0m\n",
      "\u001b[1;32m~\\anaconda3\\lib\\site-packages\\tclab\\tclab.py\u001b[0m in \u001b[0;36m__init__\u001b[1;34m(self, port, debug)\u001b[0m\n\u001b[0;32m     59\u001b[0m         \u001b[0mself\u001b[0m\u001b[1;33m.\u001b[0m\u001b[0mport\u001b[0m\u001b[1;33m,\u001b[0m \u001b[0mself\u001b[0m\u001b[1;33m.\u001b[0m\u001b[0marduino\u001b[0m \u001b[1;33m=\u001b[0m \u001b[0mfind_arduino\u001b[0m\u001b[1;33m(\u001b[0m\u001b[0mport\u001b[0m\u001b[1;33m)\u001b[0m\u001b[1;33m\u001b[0m\u001b[1;33m\u001b[0m\u001b[0m\n\u001b[0;32m     60\u001b[0m         \u001b[1;32mif\u001b[0m \u001b[0mself\u001b[0m\u001b[1;33m.\u001b[0m\u001b[0mport\u001b[0m \u001b[1;32mis\u001b[0m \u001b[1;32mNone\u001b[0m\u001b[1;33m:\u001b[0m\u001b[1;33m\u001b[0m\u001b[1;33m\u001b[0m\u001b[0m\n\u001b[1;32m---> 61\u001b[1;33m             \u001b[1;32mraise\u001b[0m \u001b[0mRuntimeError\u001b[0m\u001b[1;33m(\u001b[0m\u001b[1;34m'No Arduino device found.'\u001b[0m\u001b[1;33m)\u001b[0m\u001b[1;33m\u001b[0m\u001b[1;33m\u001b[0m\u001b[0m\n\u001b[0m\u001b[0;32m     62\u001b[0m \u001b[1;33m\u001b[0m\u001b[0m\n\u001b[0;32m     63\u001b[0m         \u001b[1;32mtry\u001b[0m\u001b[1;33m:\u001b[0m\u001b[1;33m\u001b[0m\u001b[1;33m\u001b[0m\u001b[0m\n",
      "\u001b[1;31mRuntimeError\u001b[0m: No Arduino device found."
     ]
    },
    {
     "data": {
      "image/png": "[encoded data removed]",
      "text/plain": [
       "<Figure size 1584x864 with 3 Axes>"
      ]
     },
     "metadata": {
      "needs_background": "light"
     },
     "output_type": "display_data"
    }
   ],
   "source": [
    "fig, (ax1, ax2, ax3) = plt.subplots(3,1)\n",
    "fig.set_figheight(12)\n",
    "fig.set_figwidth(22)\n",
    "\n",
    "l1, = ax1.step([0,1],[0,100],'b-',linewidth=2,label='MV',where='post')\n",
    "ax1.set_ylabel('Value of MV [%]')\n",
    "ax1.set_title('Open-loop experiment on ')\n",
    "ax1.legend(loc='best')\n",
    "\n",
    "l2, = ax2.step([0,1],[0,100],'g-',linewidth=2,label='PV',where='post')\n",
    "l4, = ax2.step([0,1],[0,100],'r-',linewidth=2,label='SP',where='post')\n",
    "ax2.set_ylabel('Value of PV [°C]')\n",
    "ax2.legend(loc='best')\n",
    "\n",
    "l3, = ax3.step([0,1],[0,100],'y-',linewidth=2,label='DV',where='post')\n",
    "ax3.set_xlabel('Time [s]')\n",
    "ax3.set_ylabel('Value of DV [%]')\n",
    "ax3.legend(loc='best') \n",
    "\n",
    "lab = tclab.TCLab()\n",
    "\n",
    "for i in range(0, N):\n",
    "    t.append(i * Ts)\n",
    "    \n",
    "    #create SP\n",
    "    SelectPath_RT(SPPath, t, SP)\n",
    "    #create DV\n",
    "    SelectPath_RT(DVPath, t, DV)\n",
    "    \n",
    "    #calculate the DV vector - the working point of DV\n",
    "    for i in range(len(DV)):\n",
    "        DV0_vec.append(DV[i] - DV0)\n",
    "    \n",
    "    #feedforward\n",
    "    if (FF):\n",
    "        Delay_RT(DV0_vec, np.max([theta_d - theta_p, 0]), Ts, MVFFDel)\n",
    "        LEAD_LAG_RT(MVFFDel, - Kp_d / Kp_p, T1_p, T1_d, Ts, MVFFLL1)\n",
    "        LEAD_LAG_RT(MVFFLL1, 1, T2_p, T2_d, Ts, MVFF)\n",
    "    else:\n",
    "        LEAD_LAG_RT(DV, 0, T2_p, T2_d, Ts, MVFF)\n",
    "        \n",
    "    #manual mode path\n",
    "    SelectPath_RT(ManPath, t, Man)\n",
    "    #manual mode MV\n",
    "    SelectPath_RT(MVManPath, t, MVMan)\n",
    "    \n",
    "    #PID\n",
    "    PID_RT(SP, PV, Man, MVMan, MVFF, Kc, Ti, Td, alpha, Ts, MVMin, MVMax, MV, MVP, MVI, MVD, E, ManFF, 0)\n",
    "\n",
    "    run(SP, MV, DV, PV, Ts, FF, Man, MVI, MVP, MVD)\n",
    "\n",
    "# Disconnect from TCLab\n",
    "lab.close()\n",
    "\n",
    "#save drawing of the plots\n",
    "now = datetime.now()\n",
    "date_time = now.strftime(\"%Y-%m-%d-%Hh%M\")\n",
    "\n",
    "\n",
    "if (FF):\n",
    "    if(Man):\n",
    "        nameFile = 'Plots/TCLab OLP + FF ' + date_time\n",
    "    else:\n",
    "        nameFile = 'Plots/TCLab CLP + FF ' + date_time\n",
    "else:\n",
    "    if(Man):\n",
    "        nameFile = 'Plots/TCLab OLP + no FF ' + date_time\n",
    "    else:\n",
    "        nameFile = 'Plots/TCLab CLP + no FF ' + date_time\n",
    "\n",
    "\n",
    "if not os.path.exists('Plots'):\n",
    "    os.makedirs('Plots')\n",
    "    \n",
    "plt.savefig(nameFile + '.png',transparent=True)\n",
    "plt.savefig(nameFile + '.pdf',transparent=True)    "
   ]
  },
  {
   "cell_type": "code",
   "execution_count": null,
   "id": "d4dba38b-3b34-4554-a5cc-cbe03903ca4d",
   "metadata": {},
   "outputs": [],
   "source": []
  }
 ],
 "metadata": {
  "kernelspec": {
   "display_name": "Python 3 (ipykernel)",
   "language": "python",
   "name": "python3"
  },
  "language_info": {
   "codemirror_mode": {
    "name": "ipython",
    "version": 3
   },
   "file_extension": ".py",
   "mimetype": "text/x-python",
   "name": "python",
   "nbconvert_exporter": "python",
   "pygments_lexer": "ipython3",
   "version": "3.9.7"
  }
 },
 "nbformat": 4,
 "nbformat_minor": 5
}
